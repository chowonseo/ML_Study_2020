{
 "metadata": {
  "language_info": {
   "codemirror_mode": {
    "name": "ipython",
    "version": 3
   },
   "file_extension": ".py",
   "mimetype": "text/x-python",
   "name": "python",
   "nbconvert_exporter": "python",
   "pygments_lexer": "ipython3",
   "version": "3.7.7-final"
  },
  "orig_nbformat": 2,
  "kernelspec": {
   "name": "Python 3.7.7 64-bit ('tf_env': conda)",
   "display_name": "Python 3.7.7 64-bit ('tf_env': conda)",
   "metadata": {
    "interpreter": {
     "hash": "3447f6136a6cf56eb81d5af8e2a6db11391489766b6427b46ae4250d86181ffe"
    }
   }
  }
 },
 "nbformat": 4,
 "nbformat_minor": 2,
 "cells": [
  {
   "source": [
    "# Advanced Python Class 1: List Comprehension"
   ],
   "cell_type": "markdown",
   "metadata": {}
  },
  {
   "source": [
    "## Syllabus\n",
    "\n",
    "* List Comprehension\n",
    "* Lambda Expression\n",
    "* Flagging through absl-py \n",
    "* Strings (re, fstring, format, join vs '+')\n"
   ],
   "cell_type": "markdown",
   "metadata": {}
  },
  {
   "source": [
    "### List Comprehension\n",
    "\n",
    "List Comprehension 이란, Python 에서 제공하는 굉장히 강력한 for loop 대체제입니다. for loop 을 통해 몇 줄 이상으로 작성해야할 코드를 1줄로 줄일 수 있습니다.\n",
    "\n",
    "장점: 간결한 코드\n",
    "단점: 간혹 너무 복잡해지면 readability 가 떨어질 수 있음"
   ],
   "cell_type": "markdown",
   "metadata": {}
  },
  {
   "source": [
    "### Example\n",
    "\n",
    "Given a list of list A, return a list B that contains the length of the all the lists inside A.\n",
    "\n",
    "Args:\n",
    "    `A = [[1,2,3,4,5], [5,4,3], [10, 14, 142, 5], [1]]`\n",
    "\n",
    "Returns:\n",
    "    `B = [5, 3, 4, 1]`"
   ],
   "cell_type": "markdown",
   "metadata": {}
  },
  {
   "source": [
    "### Easy approach"
   ],
   "cell_type": "markdown",
   "metadata": {}
  },
  {
   "cell_type": "code",
   "execution_count": 2,
   "metadata": {},
   "outputs": [
    {
     "output_type": "execute_result",
     "data": {
      "text/plain": "[5, 3, 4, 1]"
     },
     "metadata": {},
     "execution_count": 2
    }
   ],
   "source": [
    "A = [[1,2,3,4,5], [5,4,3], [10, 14, 142, 5], [1]]\n",
    "\n",
    "B = []\n",
    "for i in A:\n",
    "    B.append(len(i))\n",
    "\n",
    "B"
   ]
  },
  {
   "source": [
    "### List Comprehension"
   ],
   "cell_type": "markdown",
   "metadata": {}
  },
  {
   "cell_type": "code",
   "execution_count": 26,
   "metadata": {},
   "outputs": [
    {
     "output_type": "execute_result",
     "data": {
      "text/plain": "[5, 3, 4, 1]"
     },
     "metadata": {},
     "execution_count": 26
    }
   ],
   "source": [
    "A = [[1,2,3,4,5], [5,4,3], [10, 14, 142, 5], [1]]\n",
    "\n",
    "B = [len(i) for i in A]\n",
    "\n",
    "B"
   ]
  },
  {
   "source": [
    "### Useful other functions: enumerate, zip, sorted, range"
   ],
   "cell_type": "markdown",
   "metadata": {}
  },
  {
   "cell_type": "code",
   "execution_count": 27,
   "metadata": {},
   "outputs": [
    {
     "output_type": "execute_result",
     "data": {
      "text/plain": "[1, 3, 4, 5]"
     },
     "metadata": {},
     "execution_count": 27
    }
   ],
   "source": [
    "sorted(B)"
   ]
  },
  {
   "cell_type": "code",
   "execution_count": 29,
   "metadata": {
    "tags": []
   },
   "outputs": [
    {
     "output_type": "stream",
     "name": "stdout",
     "text": "(index, item)\n0 [1, 2, 3, 4, 5]\n1 [5, 4, 3]\n2 [10, 14, 142, 5]\n3 [1]\n"
    }
   ],
   "source": [
    "print('(index, item)')\n",
    "for i, x in enumerate(A):\n",
    "    print(i, x)\n"
   ]
  },
  {
   "cell_type": "code",
   "execution_count": 32,
   "metadata": {
    "tags": []
   },
   "outputs": [
    {
     "output_type": "stream",
     "name": "stdout",
     "text": "([1, 2, 3, 4, 5], 5)\n([5, 4, 3], 3)\n([10, 14, 142, 5], 4)\n([1], 1)\n\n[1, 2, 3, 4, 5] 5\n[5, 4, 3] 3\n[10, 14, 142, 5] 4\n[1] 1\n"
    }
   ],
   "source": [
    "for pair in zip(A, B):\n",
    "    print(pair)\n",
    "\n",
    "print()\n",
    "for a, b in zip(A, B):\n",
    "    print(a, b)"
   ]
  },
  {
   "cell_type": "code",
   "execution_count": 8,
   "metadata": {},
   "outputs": [
    {
     "output_type": "execute_result",
     "data": {
      "text/plain": "[[1], [5, 4, 3], [10, 14, 142, 5], [1, 2, 3, 4, 5]]"
     },
     "metadata": {},
     "execution_count": 8
    }
   ],
   "source": [
    "# return a sorted list of items by given key\n",
    "sorted(A, key=len)"
   ]
  },
  {
   "cell_type": "code",
   "execution_count": 22,
   "metadata": {
    "tags": []
   },
   "outputs": [
    {
     "output_type": "stream",
     "name": "stdout",
     "text": "(0, ([1, 2, 3, 4, 5], 5))\n(1, ([5, 4, 3], 3))\n(2, ([10, 14, 142, 5], 4))\n(3, ([1], 1))\n"
    }
   ],
   "source": [
    "a, b = 1, 2\n",
    "\n",
    "# this is error\n",
    "for i, a, b in enumerate(zip(A, B)):\n",
    "    print(i, a, b)\n",
    "\n",
    "# right way to do\n",
    "for i, (a, b) in enumerate(zip(A, B)):\n",
    "    print(i, a, b)"
   ]
  },
  {
   "source": [
    "## List comprehension is actually a generator class: not restricted to lists"
   ],
   "cell_type": "markdown",
   "metadata": {}
  },
  {
   "cell_type": "code",
   "execution_count": 36,
   "metadata": {
    "tags": []
   },
   "outputs": [
    {
     "output_type": "stream",
     "name": "stdout",
     "text": "&lt;generator object &lt;genexpr&gt; at 0x7f97193b3a50&gt;\n"
    }
   ],
   "source": [
    "def func(a):\n",
    "\n",
    "    print(a)\n",
    "\n",
    "func(x for x in A)"
   ]
  },
  {
   "cell_type": "code",
   "execution_count": 37,
   "metadata": {},
   "outputs": [],
   "source": [
    "a = {}\n",
    "\n",
    "a['1'] = 1"
   ]
  },
  {
   "cell_type": "code",
   "execution_count": 39,
   "metadata": {},
   "outputs": [
    {
     "output_type": "execute_result",
     "data": {
      "text/plain": "{&#39;Desmond&#39;: 7, &#39;Avery&#39;: 5, &#39;Mordecai&#39;: 8, &#39;Arya&#39;: 4, &#39;Rossiter&#39;: 8}"
     },
     "metadata": {},
     "execution_count": 39
    }
   ],
   "source": [
    "# name as key, length of name as value\n",
    "\n",
    "names = ['Desmond', 'Avery', 'Mordecai', 'Arya', 'Rossiter']\n",
    "\n",
    "name_dict = {}\n",
    "for n in names:\n",
    "    name_dict[n] = len(n)\n",
    "\n",
    "name_dict"
   ]
  },
  {
   "cell_type": "code",
   "execution_count": 41,
   "metadata": {},
   "outputs": [
    {
     "output_type": "execute_result",
     "data": {
      "text/plain": "{&#39;Desmond&#39;: 7, &#39;Avery&#39;: 5, &#39;Mordecai&#39;: 8, &#39;Arya&#39;: 4, &#39;Rossiter&#39;: 8}"
     },
     "metadata": {},
     "execution_count": 41
    }
   ],
   "source": [
    "name_dict2 = {name: len(name) for name in names}\n",
    "name_dict2"
   ]
  },
  {
   "source": [
    "Extra: dict and set do not gurantee the order: however, since python 3.5, dictionary gurantee order of insertion"
   ],
   "cell_type": "markdown",
   "metadata": {}
  },
  {
   "source": [
    "## Exercise 1: create a 3-d list of size (n,n,n) containing all zeros using list comprehension\n",
    "\n"
   ],
   "cell_type": "markdown",
   "metadata": {}
  },
  {
   "cell_type": "code",
   "execution_count": 49,
   "metadata": {
    "tags": []
   },
   "outputs": [
    {
     "output_type": "stream",
     "name": "stdout",
     "text": "shape: 10 10 10\n"
    }
   ],
   "source": [
    "n = 10\n",
    "\n",
    "# put your answer here\n",
    "ans = [[[0 for _ in range(n)] for _ in range(n)] for _ in range(n)]\n",
    "\n",
    "print('shape:', len(ans), len(ans[0]), len(ans[0][0]))"
   ]
  },
  {
   "source": [
    "## Exercise 2:\n",
    "\n",
    "You are given 2 lists of strings: One contains first names, second contains last names. What you should do: \n",
    "\n",
    "Sort the last names in ascending order. Then, create a dictionary with key: full name (first name comes first), value: the name's index in the original list. You can use only one line of code to process this.\n",
    "\n",
    "NOTE: The first names need not be sorted.\n",
    "\n",
    "HINT: \n",
    "* for making full name, use `first_name + ' ' + last_name`.\n",
    "* you should use sorted, zip, enumerate, and list comprehension in your code."
   ],
   "cell_type": "markdown",
   "metadata": {}
  },
  {
   "cell_type": "code",
   "execution_count": 44,
   "metadata": {},
   "outputs": [
    {
     "output_type": "execute_result",
     "data": {
      "text/plain": "{&#39;James Aldrin&#39;: 0,\n &#39;John Choi&#39;: 1,\n &#39;Mark Golin&#39;: 2,\n &#39;Lucy Lettieri&#39;: 3,\n &#39;Cynthia Potter&#39;: 4,\n &#39;Harry Smith&#39;: 5}"
     },
     "metadata": {},
     "execution_count": 44
    }
   ],
   "source": [
    "first_names = ['James', 'John', 'Mark', 'Lucy', 'Cynthia', 'Harry']\n",
    "last_names = ['Choi', 'Smith', 'Lettieri', 'Aldrin', 'Golin', 'Potter']\n",
    "\n",
    "# put your answer here\n",
    "\n",
    "answer = {' '.join([first, last]): i for i, (first, last) in enumerate(zip(first_names, sorted(last_names)))}\n",
    "\n",
    "answer"
   ]
  }
 ]
}